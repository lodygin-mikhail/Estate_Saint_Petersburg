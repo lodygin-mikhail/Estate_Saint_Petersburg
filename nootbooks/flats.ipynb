{
 "cells": [
  {
   "cell_type": "code",
   "id": "initial_id",
   "metadata": {
    "collapsed": true,
    "ExecuteTime": {
     "end_time": "2025-09-01T19:22:11.185302Z",
     "start_time": "2025-09-01T19:22:10.428796Z"
    }
   },
   "source": [
    "from ast import literal_eval\n",
    "from pathlib import Path\n",
    "import pandas as pd\n",
    "from sklearn.preprocessing import MultiLabelBinarizer\n",
    "\n",
    "DATA_DIR = Path().resolve().parent / 'data'"
   ],
   "outputs": [],
   "execution_count": 1
  },
  {
   "metadata": {},
   "cell_type": "markdown",
   "source": "## Загрузка данных",
   "id": "4b66e42e0885bcb7"
  },
  {
   "metadata": {
    "ExecuteTime": {
     "end_time": "2025-09-01T19:22:11.212537Z",
     "start_time": "2025-09-01T19:22:11.194252Z"
    }
   },
   "cell_type": "code",
   "source": [
    "df = pd.read_csv(DATA_DIR / 'Spb_flats_prices.csv')\n",
    "df.head()"
   ],
   "id": "1bffef168739a33a",
   "outputs": [
    {
     "data": {
      "text/plain": [
       "                                   Underground Times  \\\n",
       "0  {'Underground name': ['Балтийская', 'Василеост...   \n",
       "1  {'Underground name': ['Московская', 'Бухарестс...   \n",
       "2  {'Underground name': ['Василеостровская', 'Спо...   \n",
       "3  {'Underground name': ['Улица Дыбенко', 'Проспе...   \n",
       "4  {'Underground name': ['Девяткино', 'Граждански...   \n",
       "\n",
       "   Flat Status (1 - handed over, 0 - not handed over) Flat Type  \\\n",
       "0                                                  1     4-комн   \n",
       "1                                                  1     2-комн   \n",
       "2                                                  0     3-комн   \n",
       "3                                                  1     2-комн   \n",
       "4                                                  1     1-комн   \n",
       "\n",
       "   Total Area (m^2)  Living Area (m^2)  Kitchen Area (m^2)  Floor  \\\n",
       "0            125.50               75.8                22.9      4   \n",
       "1             41.50               26.4                 6.0      3   \n",
       "2             80.39               44.9                10.2      3   \n",
       "3             65.10               27.0                19.0      4   \n",
       "4             38.50               16.6                10.5     10   \n",
       "\n",
       "   Year of building  Price (Rubles)  \n",
       "0              1876        24500000  \n",
       "1              1964         6300000  \n",
       "2              2025        30061520  \n",
       "3              1983        11500000  \n",
       "4              2015         5599000  "
      ],
      "text/html": [
       "<div>\n",
       "<style scoped>\n",
       "    .dataframe tbody tr th:only-of-type {\n",
       "        vertical-align: middle;\n",
       "    }\n",
       "\n",
       "    .dataframe tbody tr th {\n",
       "        vertical-align: top;\n",
       "    }\n",
       "\n",
       "    .dataframe thead th {\n",
       "        text-align: right;\n",
       "    }\n",
       "</style>\n",
       "<table border=\"1\" class=\"dataframe\">\n",
       "  <thead>\n",
       "    <tr style=\"text-align: right;\">\n",
       "      <th></th>\n",
       "      <th>Underground Times</th>\n",
       "      <th>Flat Status (1 - handed over, 0 - not handed over)</th>\n",
       "      <th>Flat Type</th>\n",
       "      <th>Total Area (m^2)</th>\n",
       "      <th>Living Area (m^2)</th>\n",
       "      <th>Kitchen Area (m^2)</th>\n",
       "      <th>Floor</th>\n",
       "      <th>Year of building</th>\n",
       "      <th>Price (Rubles)</th>\n",
       "    </tr>\n",
       "  </thead>\n",
       "  <tbody>\n",
       "    <tr>\n",
       "      <th>0</th>\n",
       "      <td>{'Underground name': ['Балтийская', 'Василеост...</td>\n",
       "      <td>1</td>\n",
       "      <td>4-комн</td>\n",
       "      <td>125.50</td>\n",
       "      <td>75.8</td>\n",
       "      <td>22.9</td>\n",
       "      <td>4</td>\n",
       "      <td>1876</td>\n",
       "      <td>24500000</td>\n",
       "    </tr>\n",
       "    <tr>\n",
       "      <th>1</th>\n",
       "      <td>{'Underground name': ['Московская', 'Бухарестс...</td>\n",
       "      <td>1</td>\n",
       "      <td>2-комн</td>\n",
       "      <td>41.50</td>\n",
       "      <td>26.4</td>\n",
       "      <td>6.0</td>\n",
       "      <td>3</td>\n",
       "      <td>1964</td>\n",
       "      <td>6300000</td>\n",
       "    </tr>\n",
       "    <tr>\n",
       "      <th>2</th>\n",
       "      <td>{'Underground name': ['Василеостровская', 'Спо...</td>\n",
       "      <td>0</td>\n",
       "      <td>3-комн</td>\n",
       "      <td>80.39</td>\n",
       "      <td>44.9</td>\n",
       "      <td>10.2</td>\n",
       "      <td>3</td>\n",
       "      <td>2025</td>\n",
       "      <td>30061520</td>\n",
       "    </tr>\n",
       "    <tr>\n",
       "      <th>3</th>\n",
       "      <td>{'Underground name': ['Улица Дыбенко', 'Проспе...</td>\n",
       "      <td>1</td>\n",
       "      <td>2-комн</td>\n",
       "      <td>65.10</td>\n",
       "      <td>27.0</td>\n",
       "      <td>19.0</td>\n",
       "      <td>4</td>\n",
       "      <td>1983</td>\n",
       "      <td>11500000</td>\n",
       "    </tr>\n",
       "    <tr>\n",
       "      <th>4</th>\n",
       "      <td>{'Underground name': ['Девяткино', 'Граждански...</td>\n",
       "      <td>1</td>\n",
       "      <td>1-комн</td>\n",
       "      <td>38.50</td>\n",
       "      <td>16.6</td>\n",
       "      <td>10.5</td>\n",
       "      <td>10</td>\n",
       "      <td>2015</td>\n",
       "      <td>5599000</td>\n",
       "    </tr>\n",
       "  </tbody>\n",
       "</table>\n",
       "</div>"
      ]
     },
     "execution_count": 2,
     "metadata": {},
     "output_type": "execute_result"
    }
   ],
   "execution_count": 2
  },
  {
   "metadata": {
    "ExecuteTime": {
     "end_time": "2025-09-01T19:22:11.227561Z",
     "start_time": "2025-09-01T19:22:11.223596Z"
    }
   },
   "cell_type": "code",
   "source": [
    "df.columns = ['metro_info',\n",
    "             'flat_status',\n",
    "             'flat_type',\n",
    "             'total_area_m2',\n",
    "             'living_area_m2',\n",
    "             'kitchen_area_m2',\n",
    "             'floor',\n",
    "             'year_of_bulding',\n",
    "             'price']"
   ],
   "id": "1ec09e3aa016e673",
   "outputs": [],
   "execution_count": 3
  },
  {
   "metadata": {
    "ExecuteTime": {
     "end_time": "2025-09-01T19:22:11.242807Z",
     "start_time": "2025-09-01T19:22:11.233576Z"
    }
   },
   "cell_type": "code",
   "source": "df.head()",
   "id": "62dcf0a5f308259d",
   "outputs": [
    {
     "data": {
      "text/plain": [
       "                                          metro_info  flat_status flat_type  \\\n",
       "0  {'Underground name': ['Балтийская', 'Василеост...            1    4-комн   \n",
       "1  {'Underground name': ['Московская', 'Бухарестс...            1    2-комн   \n",
       "2  {'Underground name': ['Василеостровская', 'Спо...            0    3-комн   \n",
       "3  {'Underground name': ['Улица Дыбенко', 'Проспе...            1    2-комн   \n",
       "4  {'Underground name': ['Девяткино', 'Граждански...            1    1-комн   \n",
       "\n",
       "   total_area_m2  living_area_m2  kitchen_area_m2  floor  year_of_bulding  \\\n",
       "0         125.50            75.8             22.9      4             1876   \n",
       "1          41.50            26.4              6.0      3             1964   \n",
       "2          80.39            44.9             10.2      3             2025   \n",
       "3          65.10            27.0             19.0      4             1983   \n",
       "4          38.50            16.6             10.5     10             2015   \n",
       "\n",
       "      price  \n",
       "0  24500000  \n",
       "1   6300000  \n",
       "2  30061520  \n",
       "3  11500000  \n",
       "4   5599000  "
      ],
      "text/html": [
       "<div>\n",
       "<style scoped>\n",
       "    .dataframe tbody tr th:only-of-type {\n",
       "        vertical-align: middle;\n",
       "    }\n",
       "\n",
       "    .dataframe tbody tr th {\n",
       "        vertical-align: top;\n",
       "    }\n",
       "\n",
       "    .dataframe thead th {\n",
       "        text-align: right;\n",
       "    }\n",
       "</style>\n",
       "<table border=\"1\" class=\"dataframe\">\n",
       "  <thead>\n",
       "    <tr style=\"text-align: right;\">\n",
       "      <th></th>\n",
       "      <th>metro_info</th>\n",
       "      <th>flat_status</th>\n",
       "      <th>flat_type</th>\n",
       "      <th>total_area_m2</th>\n",
       "      <th>living_area_m2</th>\n",
       "      <th>kitchen_area_m2</th>\n",
       "      <th>floor</th>\n",
       "      <th>year_of_bulding</th>\n",
       "      <th>price</th>\n",
       "    </tr>\n",
       "  </thead>\n",
       "  <tbody>\n",
       "    <tr>\n",
       "      <th>0</th>\n",
       "      <td>{'Underground name': ['Балтийская', 'Василеост...</td>\n",
       "      <td>1</td>\n",
       "      <td>4-комн</td>\n",
       "      <td>125.50</td>\n",
       "      <td>75.8</td>\n",
       "      <td>22.9</td>\n",
       "      <td>4</td>\n",
       "      <td>1876</td>\n",
       "      <td>24500000</td>\n",
       "    </tr>\n",
       "    <tr>\n",
       "      <th>1</th>\n",
       "      <td>{'Underground name': ['Московская', 'Бухарестс...</td>\n",
       "      <td>1</td>\n",
       "      <td>2-комн</td>\n",
       "      <td>41.50</td>\n",
       "      <td>26.4</td>\n",
       "      <td>6.0</td>\n",
       "      <td>3</td>\n",
       "      <td>1964</td>\n",
       "      <td>6300000</td>\n",
       "    </tr>\n",
       "    <tr>\n",
       "      <th>2</th>\n",
       "      <td>{'Underground name': ['Василеостровская', 'Спо...</td>\n",
       "      <td>0</td>\n",
       "      <td>3-комн</td>\n",
       "      <td>80.39</td>\n",
       "      <td>44.9</td>\n",
       "      <td>10.2</td>\n",
       "      <td>3</td>\n",
       "      <td>2025</td>\n",
       "      <td>30061520</td>\n",
       "    </tr>\n",
       "    <tr>\n",
       "      <th>3</th>\n",
       "      <td>{'Underground name': ['Улица Дыбенко', 'Проспе...</td>\n",
       "      <td>1</td>\n",
       "      <td>2-комн</td>\n",
       "      <td>65.10</td>\n",
       "      <td>27.0</td>\n",
       "      <td>19.0</td>\n",
       "      <td>4</td>\n",
       "      <td>1983</td>\n",
       "      <td>11500000</td>\n",
       "    </tr>\n",
       "    <tr>\n",
       "      <th>4</th>\n",
       "      <td>{'Underground name': ['Девяткино', 'Граждански...</td>\n",
       "      <td>1</td>\n",
       "      <td>1-комн</td>\n",
       "      <td>38.50</td>\n",
       "      <td>16.6</td>\n",
       "      <td>10.5</td>\n",
       "      <td>10</td>\n",
       "      <td>2015</td>\n",
       "      <td>5599000</td>\n",
       "    </tr>\n",
       "  </tbody>\n",
       "</table>\n",
       "</div>"
      ]
     },
     "execution_count": 4,
     "metadata": {},
     "output_type": "execute_result"
    }
   ],
   "execution_count": 4
  },
  {
   "metadata": {
    "ExecuteTime": {
     "end_time": "2025-09-01T19:22:11.251968Z",
     "start_time": "2025-09-01T19:22:11.247814Z"
    }
   },
   "cell_type": "code",
   "source": [
    "def nearest_metro_station(json):\n",
    "    stations_dict = literal_eval(json)\n",
    "    nearest_station = stations_dict['Underground name'][0]\n",
    "    time_to_get = stations_dict['Underground time'][0]\n",
    "    way_to_get_to = stations_dict['Transport type'][0]\n",
    "    return [nearest_station, time_to_get, way_to_get_to]"
   ],
   "id": "68ff3bb672f0cf12",
   "outputs": [],
   "execution_count": 5
  },
  {
   "metadata": {
    "ExecuteTime": {
     "end_time": "2025-09-01T19:22:11.324713Z",
     "start_time": "2025-09-01T19:22:11.262163Z"
    }
   },
   "cell_type": "code",
   "source": "df['metro_info'] = df['metro_info'].apply(lambda x: nearest_metro_station(x))",
   "id": "245c0a575173a0ea",
   "outputs": [],
   "execution_count": 6
  },
  {
   "metadata": {
    "ExecuteTime": {
     "end_time": "2025-09-01T19:22:11.336040Z",
     "start_time": "2025-09-01T19:22:11.328746Z"
    }
   },
   "cell_type": "code",
   "source": "df['metro_info']",
   "id": "fd1e5f638c9aee2e",
   "outputs": [
    {
     "data": {
      "text/plain": [
       "0                          [Балтийская, 5, car]\n",
       "1                          [Московская, 6, car]\n",
       "2                  [Василеостровская, 11, legs]\n",
       "3                       [Улица Дыбенко, 7, car]\n",
       "4                           [Девяткино, 6, car]\n",
       "                         ...                   \n",
       "1075                       [Спортивная, 6, car]\n",
       "1076    [Площадь Александра Невского, 14, legs]\n",
       "1077               [Василеостровская, 11, legs]\n",
       "1078                         [Беговая, 13, car]\n",
       "1079                      [Московская, 21, car]\n",
       "Name: metro_info, Length: 1080, dtype: object"
      ]
     },
     "execution_count": 7,
     "metadata": {},
     "output_type": "execute_result"
    }
   ],
   "execution_count": 7
  },
  {
   "metadata": {
    "ExecuteTime": {
     "end_time": "2025-09-01T19:22:11.348298Z",
     "start_time": "2025-09-01T19:22:11.343191Z"
    }
   },
   "cell_type": "code",
   "source": [
    "df[['metro_station', 'minutes_to_metro', 'transfer_type']] = pd.DataFrame(df['metro_info'].tolist(), index=df.index)\n",
    "df.drop('metro_info', axis=1, inplace=True)"
   ],
   "id": "5fd0c10afb9c5d18",
   "outputs": [],
   "execution_count": 8
  },
  {
   "metadata": {
    "ExecuteTime": {
     "end_time": "2025-09-01T19:22:11.369334Z",
     "start_time": "2025-09-01T19:22:11.359456Z"
    }
   },
   "cell_type": "code",
   "source": "df.head()",
   "id": "226272d52da3a46",
   "outputs": [
    {
     "data": {
      "text/plain": [
       "   flat_status flat_type  total_area_m2  living_area_m2  kitchen_area_m2  \\\n",
       "0            1    4-комн         125.50            75.8             22.9   \n",
       "1            1    2-комн          41.50            26.4              6.0   \n",
       "2            0    3-комн          80.39            44.9             10.2   \n",
       "3            1    2-комн          65.10            27.0             19.0   \n",
       "4            1    1-комн          38.50            16.6             10.5   \n",
       "\n",
       "   floor  year_of_bulding     price     metro_station minutes_to_metro  \\\n",
       "0      4             1876  24500000        Балтийская                5   \n",
       "1      3             1964   6300000        Московская                6   \n",
       "2      3             2025  30061520  Василеостровская               11   \n",
       "3      4             1983  11500000     Улица Дыбенко                7   \n",
       "4     10             2015   5599000         Девяткино                6   \n",
       "\n",
       "  transfer_type  \n",
       "0           car  \n",
       "1           car  \n",
       "2          legs  \n",
       "3           car  \n",
       "4           car  "
      ],
      "text/html": [
       "<div>\n",
       "<style scoped>\n",
       "    .dataframe tbody tr th:only-of-type {\n",
       "        vertical-align: middle;\n",
       "    }\n",
       "\n",
       "    .dataframe tbody tr th {\n",
       "        vertical-align: top;\n",
       "    }\n",
       "\n",
       "    .dataframe thead th {\n",
       "        text-align: right;\n",
       "    }\n",
       "</style>\n",
       "<table border=\"1\" class=\"dataframe\">\n",
       "  <thead>\n",
       "    <tr style=\"text-align: right;\">\n",
       "      <th></th>\n",
       "      <th>flat_status</th>\n",
       "      <th>flat_type</th>\n",
       "      <th>total_area_m2</th>\n",
       "      <th>living_area_m2</th>\n",
       "      <th>kitchen_area_m2</th>\n",
       "      <th>floor</th>\n",
       "      <th>year_of_bulding</th>\n",
       "      <th>price</th>\n",
       "      <th>metro_station</th>\n",
       "      <th>minutes_to_metro</th>\n",
       "      <th>transfer_type</th>\n",
       "    </tr>\n",
       "  </thead>\n",
       "  <tbody>\n",
       "    <tr>\n",
       "      <th>0</th>\n",
       "      <td>1</td>\n",
       "      <td>4-комн</td>\n",
       "      <td>125.50</td>\n",
       "      <td>75.8</td>\n",
       "      <td>22.9</td>\n",
       "      <td>4</td>\n",
       "      <td>1876</td>\n",
       "      <td>24500000</td>\n",
       "      <td>Балтийская</td>\n",
       "      <td>5</td>\n",
       "      <td>car</td>\n",
       "    </tr>\n",
       "    <tr>\n",
       "      <th>1</th>\n",
       "      <td>1</td>\n",
       "      <td>2-комн</td>\n",
       "      <td>41.50</td>\n",
       "      <td>26.4</td>\n",
       "      <td>6.0</td>\n",
       "      <td>3</td>\n",
       "      <td>1964</td>\n",
       "      <td>6300000</td>\n",
       "      <td>Московская</td>\n",
       "      <td>6</td>\n",
       "      <td>car</td>\n",
       "    </tr>\n",
       "    <tr>\n",
       "      <th>2</th>\n",
       "      <td>0</td>\n",
       "      <td>3-комн</td>\n",
       "      <td>80.39</td>\n",
       "      <td>44.9</td>\n",
       "      <td>10.2</td>\n",
       "      <td>3</td>\n",
       "      <td>2025</td>\n",
       "      <td>30061520</td>\n",
       "      <td>Василеостровская</td>\n",
       "      <td>11</td>\n",
       "      <td>legs</td>\n",
       "    </tr>\n",
       "    <tr>\n",
       "      <th>3</th>\n",
       "      <td>1</td>\n",
       "      <td>2-комн</td>\n",
       "      <td>65.10</td>\n",
       "      <td>27.0</td>\n",
       "      <td>19.0</td>\n",
       "      <td>4</td>\n",
       "      <td>1983</td>\n",
       "      <td>11500000</td>\n",
       "      <td>Улица Дыбенко</td>\n",
       "      <td>7</td>\n",
       "      <td>car</td>\n",
       "    </tr>\n",
       "    <tr>\n",
       "      <th>4</th>\n",
       "      <td>1</td>\n",
       "      <td>1-комн</td>\n",
       "      <td>38.50</td>\n",
       "      <td>16.6</td>\n",
       "      <td>10.5</td>\n",
       "      <td>10</td>\n",
       "      <td>2015</td>\n",
       "      <td>5599000</td>\n",
       "      <td>Девяткино</td>\n",
       "      <td>6</td>\n",
       "      <td>car</td>\n",
       "    </tr>\n",
       "  </tbody>\n",
       "</table>\n",
       "</div>"
      ]
     },
     "execution_count": 9,
     "metadata": {},
     "output_type": "execute_result"
    }
   ],
   "execution_count": 9
  },
  {
   "metadata": {
    "ExecuteTime": {
     "end_time": "2025-09-01T19:22:22.188142Z",
     "start_time": "2025-09-01T19:22:22.181754Z"
    }
   },
   "cell_type": "code",
   "source": "df.duplicated().sum()",
   "id": "37667a0b12b54679",
   "outputs": [
    {
     "data": {
      "text/plain": [
       "np.int64(82)"
      ]
     },
     "execution_count": 11,
     "metadata": {},
     "output_type": "execute_result"
    }
   ],
   "execution_count": 11
  },
  {
   "metadata": {
    "ExecuteTime": {
     "end_time": "2025-09-01T19:22:11.397122Z",
     "start_time": "2025-09-01T19:22:11.394148Z"
    }
   },
   "cell_type": "code",
   "source": "",
   "id": "2a4f8614018dc1fd",
   "outputs": [],
   "execution_count": null
  }
 ],
 "metadata": {
  "kernelspec": {
   "display_name": "Python 3",
   "language": "python",
   "name": "python3"
  },
  "language_info": {
   "codemirror_mode": {
    "name": "ipython",
    "version": 2
   },
   "file_extension": ".py",
   "mimetype": "text/x-python",
   "name": "python",
   "nbconvert_exporter": "python",
   "pygments_lexer": "ipython2",
   "version": "2.7.6"
  }
 },
 "nbformat": 4,
 "nbformat_minor": 5
}
