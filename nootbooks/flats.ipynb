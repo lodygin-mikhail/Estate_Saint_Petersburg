{
 "cells": [
  {
   "cell_type": "code",
   "id": "initial_id",
   "metadata": {
    "collapsed": true,
    "ExecuteTime": {
     "end_time": "2025-09-01T20:17:49.844897Z",
     "start_time": "2025-09-01T20:17:49.838065Z"
    }
   },
   "source": [
    "from ast import literal_eval\n",
    "from datetime import datetime\n",
    "from pathlib import Path\n",
    "import pandas as pd\n",
    "import seaborn as sns\n",
    "import matplotlib.pyplot as plt\n",
    "\n",
    "\n",
    "sns.set_theme(style='white',font_scale=1.5)\n",
    "sns.set_theme(rc={'axes.facecolor':'#FFFAF0','figure.facecolor':'#FFFAF0'})\n",
    "sns.set_context('poster',font_scale = .7)\n",
    "\n",
    "import warnings\n",
    "warnings.filterwarnings('ignore')\n",
    "\n",
    "RANDOM_STATE = 42\n",
    "\n",
    "DATA_DIR = Path().resolve().parent / 'data'"
   ],
   "outputs": [],
   "execution_count": 1
  },
  {
   "metadata": {
    "ExecuteTime": {
     "end_time": "2025-09-01T20:17:49.863424Z",
     "start_time": "2025-09-01T20:17:49.849855Z"
    }
   },
   "cell_type": "code",
   "source": [
    "def check_df(dataframe, head=5):\n",
    "    print('SHAPE'.center(70,'-'))\n",
    "    print(dataframe.shape)\n",
    "    print('HEAD'.center(70,'-'))\n",
    "    print(dataframe.head(head))\n",
    "    print('INFO'.center(70,'-'))\n",
    "    print(dataframe.info())\n",
    "    print('NUNIQUE'.center(70,'-'))\n",
    "    print(dataframe.nunique())\n",
    "    print('MISSING VALUES'.center(70,'-'))\n",
    "    print(dataframe.isnull().sum())\n",
    "    print('DUPLICATED ROWS'.center(70,'-'))\n",
    "    print(dataframe.duplicated().sum())"
   ],
   "id": "c8be79170299ee7d",
   "outputs": [],
   "execution_count": 2
  },
  {
   "metadata": {},
   "cell_type": "markdown",
   "source": "## Загрузка данных",
   "id": "4b66e42e0885bcb7"
  },
  {
   "metadata": {
    "ExecuteTime": {
     "end_time": "2025-09-01T20:17:49.888843Z",
     "start_time": "2025-09-01T20:17:49.865833Z"
    }
   },
   "cell_type": "code",
   "source": [
    "df = pd.read_csv(DATA_DIR / 'Spb_flats_prices.csv')\n",
    "check_df(df)"
   ],
   "id": "1bffef168739a33a",
   "outputs": [
    {
     "name": "stdout",
     "output_type": "stream",
     "text": [
      "--------------------------------SHAPE---------------------------------\n",
      "(1080, 9)\n",
      "---------------------------------HEAD---------------------------------\n",
      "                                   Underground Times  \\\n",
      "0  {'Underground name': ['Балтийская', 'Василеост...   \n",
      "1  {'Underground name': ['Московская', 'Бухарестс...   \n",
      "2  {'Underground name': ['Василеостровская', 'Спо...   \n",
      "3  {'Underground name': ['Улица Дыбенко', 'Проспе...   \n",
      "4  {'Underground name': ['Девяткино', 'Граждански...   \n",
      "\n",
      "   Flat Status (1 - handed over, 0 - not handed over) Flat Type  \\\n",
      "0                                                  1     4-комн   \n",
      "1                                                  1     2-комн   \n",
      "2                                                  0     3-комн   \n",
      "3                                                  1     2-комн   \n",
      "4                                                  1     1-комн   \n",
      "\n",
      "   Total Area (m^2)  Living Area (m^2)  Kitchen Area (m^2)  Floor  \\\n",
      "0            125.50               75.8                22.9      4   \n",
      "1             41.50               26.4                 6.0      3   \n",
      "2             80.39               44.9                10.2      3   \n",
      "3             65.10               27.0                19.0      4   \n",
      "4             38.50               16.6                10.5     10   \n",
      "\n",
      "   Year of building  Price (Rubles)  \n",
      "0              1876        24500000  \n",
      "1              1964         6300000  \n",
      "2              2025        30061520  \n",
      "3              1983        11500000  \n",
      "4              2015         5599000  \n",
      "---------------------------------INFO---------------------------------\n",
      "<class 'pandas.core.frame.DataFrame'>\n",
      "RangeIndex: 1080 entries, 0 to 1079\n",
      "Data columns (total 9 columns):\n",
      " #   Column                                              Non-Null Count  Dtype  \n",
      "---  ------                                              --------------  -----  \n",
      " 0   Underground Times                                   1080 non-null   object \n",
      " 1   Flat Status (1 - handed over, 0 - not handed over)  1080 non-null   int64  \n",
      " 2   Flat Type                                           1080 non-null   object \n",
      " 3   Total Area (m^2)                                    1080 non-null   float64\n",
      " 4   Living Area (m^2)                                   1080 non-null   float64\n",
      " 5   Kitchen Area (m^2)                                  1080 non-null   float64\n",
      " 6   Floor                                               1080 non-null   int64  \n",
      " 7   Year of building                                    1080 non-null   int64  \n",
      " 8   Price (Rubles)                                      1080 non-null   int64  \n",
      "dtypes: float64(3), int64(4), object(2)\n",
      "memory usage: 76.1+ KB\n",
      "None\n",
      "-------------------------------NUNIQUE--------------------------------\n",
      "Underground Times                                     689\n",
      "Flat Status (1 - handed over, 0 - not handed over)      2\n",
      "Flat Type                                              12\n",
      "Total Area (m^2)                                      776\n",
      "Living Area (m^2)                                     474\n",
      "Kitchen Area (m^2)                                    291\n",
      "Floor                                                  25\n",
      "Year of building                                      140\n",
      "Price (Rubles)                                        791\n",
      "dtype: int64\n",
      "----------------------------MISSING VALUES----------------------------\n",
      "Underground Times                                     0\n",
      "Flat Status (1 - handed over, 0 - not handed over)    0\n",
      "Flat Type                                             0\n",
      "Total Area (m^2)                                      0\n",
      "Living Area (m^2)                                     0\n",
      "Kitchen Area (m^2)                                    0\n",
      "Floor                                                 0\n",
      "Year of building                                      0\n",
      "Price (Rubles)                                        0\n",
      "dtype: int64\n",
      "---------------------------DUPLICATED ROWS----------------------------\n",
      "81\n"
     ]
    }
   ],
   "execution_count": 3
  },
  {
   "metadata": {
    "ExecuteTime": {
     "end_time": "2025-09-01T20:17:49.895878Z",
     "start_time": "2025-09-01T20:17:49.890347Z"
    }
   },
   "cell_type": "code",
   "source": [
    "df.columns = ['metro_info',\n",
    "             'flat_status',\n",
    "             'num_of_rooms',\n",
    "             'total_area_m2',\n",
    "             'living_area_m2',\n",
    "             'kitchen_area_m2',\n",
    "             'floor',\n",
    "             'year_of_bulding',\n",
    "             'price']"
   ],
   "id": "1ec09e3aa016e673",
   "outputs": [],
   "execution_count": 4
  },
  {
   "metadata": {
    "ExecuteTime": {
     "end_time": "2025-09-01T20:17:49.904911Z",
     "start_time": "2025-09-01T20:17:49.901091Z"
    }
   },
   "cell_type": "code",
   "source": [
    "def nearest_metro_station(json):\n",
    "    stations_dict = literal_eval(json)\n",
    "\n",
    "    nearest_station = stations_dict['Underground name'][0]\n",
    "    time_to_get = stations_dict['Underground time'][0]\n",
    "    way_to_get_to = stations_dict['Transport type'][0]\n",
    "\n",
    "    return [nearest_station, time_to_get, way_to_get_to]"
   ],
   "id": "68ff3bb672f0cf12",
   "outputs": [],
   "execution_count": 5
  },
  {
   "metadata": {
    "ExecuteTime": {
     "end_time": "2025-09-01T20:17:49.935659Z",
     "start_time": "2025-09-01T20:17:49.904911Z"
    }
   },
   "cell_type": "code",
   "source": [
    "df[['metro_station',\n",
    "    'minutes_to_metro',\n",
    "    'transfer_type']] = pd.DataFrame(df['metro_info'].apply(lambda x: nearest_metro_station(x)).tolist(),\n",
    "                                     index=df.index)\n",
    "df.drop('metro_info', axis=1, inplace=True)"
   ],
   "id": "5fd0c10afb9c5d18",
   "outputs": [],
   "execution_count": 6
  },
  {
   "metadata": {
    "ExecuteTime": {
     "end_time": "2025-09-01T20:17:49.947027Z",
     "start_time": "2025-09-01T20:17:49.939661Z"
    }
   },
   "cell_type": "code",
   "source": "df['num_of_rooms'].unique()",
   "id": "3aaa69f69128deaf",
   "outputs": [
    {
     "data": {
      "text/plain": [
       "array(['4-комн', '2-комн', '3-комн', '1-комн', '5-комн', 'Студия',\n",
       "       'Многокомнатны', 'Многокомнатна', 'Апартаменты-студия', '15/4',\n",
       "       'Квартир', '29/4'], dtype=object)"
      ]
     },
     "execution_count": 7,
     "metadata": {},
     "output_type": "execute_result"
    }
   ],
   "execution_count": 7
  },
  {
   "metadata": {
    "ExecuteTime": {
     "end_time": "2025-09-01T20:17:49.961156Z",
     "start_time": "2025-09-01T20:17:49.955761Z"
    }
   },
   "cell_type": "code",
   "source": [
    "df['num_of_rooms'] = df['num_of_rooms'].apply(lambda x: 'Неизвестно' if x in ['Многокомнатны',\n",
    "                                                                          'Многокомнатна',\n",
    "                                                                          '15/4',\n",
    "                                                                          'Квартир',\n",
    "                                                                          '29/4'] else x)"
   ],
   "id": "b17772ddde256446",
   "outputs": [],
   "execution_count": 8
  },
  {
   "metadata": {
    "ExecuteTime": {
     "end_time": "2025-09-01T20:17:49.976241Z",
     "start_time": "2025-09-01T20:17:49.971908Z"
    }
   },
   "cell_type": "code",
   "source": [
    "replacements = {\n",
    "    'Апартаменты-студия': 'Студия',\n",
    "    '1-комн': '1-комнатная'\n",
    "}\n",
    "df['num_of_rooms'] = df['num_of_rooms'].replace('Апартаменты-студия', 'Студия')"
   ],
   "id": "90f1b91bc487f39f",
   "outputs": [],
   "execution_count": 9
  },
  {
   "metadata": {
    "ExecuteTime": {
     "end_time": "2025-09-01T20:17:49.987563Z",
     "start_time": "2025-09-01T20:17:49.984246Z"
    }
   },
   "cell_type": "code",
   "source": "df['num_of_rooms'] = df['num_of_rooms'].apply(lambda x: x + 'атная' if x not in ['Студия', 'Неизвестно'] else x)",
   "id": "cbc34300bbfac77b",
   "outputs": [],
   "execution_count": 10
  },
  {
   "metadata": {
    "ExecuteTime": {
     "end_time": "2025-09-01T20:17:49.998945Z",
     "start_time": "2025-09-01T20:17:49.994571Z"
    }
   },
   "cell_type": "code",
   "source": "df['num_of_rooms'].unique()",
   "id": "79fa3d71627b56c2",
   "outputs": [
    {
     "data": {
      "text/plain": [
       "array(['4-комнатная', '2-комнатная', '3-комнатная', '1-комнатная',\n",
       "       '5-комнатная', 'Студия', 'Неизвестно'], dtype=object)"
      ]
     },
     "execution_count": 11,
     "metadata": {},
     "output_type": "execute_result"
    }
   ],
   "execution_count": 11
  },
  {
   "metadata": {
    "ExecuteTime": {
     "end_time": "2025-09-01T20:17:50.019007Z",
     "start_time": "2025-09-01T20:17:50.013001Z"
    }
   },
   "cell_type": "code",
   "source": "df.duplicated().sum()",
   "id": "37667a0b12b54679",
   "outputs": [
    {
     "data": {
      "text/plain": [
       "np.int64(82)"
      ]
     },
     "execution_count": 12,
     "metadata": {},
     "output_type": "execute_result"
    }
   ],
   "execution_count": 12
  },
  {
   "metadata": {
    "ExecuteTime": {
     "end_time": "2025-09-01T20:17:50.034528Z",
     "start_time": "2025-09-01T20:17:50.029013Z"
    }
   },
   "cell_type": "code",
   "source": [
    "current_year = datetime.now().year\n",
    "df['house_age'] = (current_year - df['year_of_bulding']).apply(lambda x: x if x > 0 else 0)"
   ],
   "id": "2a4f8614018dc1fd",
   "outputs": [],
   "execution_count": 13
  },
  {
   "metadata": {
    "ExecuteTime": {
     "end_time": "2025-09-01T20:17:50.046634Z",
     "start_time": "2025-09-01T20:17:50.042636Z"
    }
   },
   "cell_type": "code",
   "source": "df['is_future_building'] = (df['year_of_bulding'] > current_year).astype(int)",
   "id": "b98156b28223c79",
   "outputs": [],
   "execution_count": 14
  },
  {
   "metadata": {
    "ExecuteTime": {
     "end_time": "2025-09-01T20:17:50.064472Z",
     "start_time": "2025-09-01T20:17:50.054871Z"
    }
   },
   "cell_type": "code",
   "source": "df.head()",
   "id": "cad1494b9e145ea6",
   "outputs": [
    {
     "data": {
      "text/plain": [
       "   flat_status num_of_rooms  total_area_m2  living_area_m2  kitchen_area_m2  \\\n",
       "0            1  4-комнатная         125.50            75.8             22.9   \n",
       "1            1  2-комнатная          41.50            26.4              6.0   \n",
       "2            0  3-комнатная          80.39            44.9             10.2   \n",
       "3            1  2-комнатная          65.10            27.0             19.0   \n",
       "4            1  1-комнатная          38.50            16.6             10.5   \n",
       "\n",
       "   floor  year_of_bulding     price     metro_station minutes_to_metro  \\\n",
       "0      4             1876  24500000        Балтийская                5   \n",
       "1      3             1964   6300000        Московская                6   \n",
       "2      3             2025  30061520  Василеостровская               11   \n",
       "3      4             1983  11500000     Улица Дыбенко                7   \n",
       "4     10             2015   5599000         Девяткино                6   \n",
       "\n",
       "  transfer_type  house_age  is_future_building  \n",
       "0           car        149                   0  \n",
       "1           car         61                   0  \n",
       "2          legs          0                   0  \n",
       "3           car         42                   0  \n",
       "4           car         10                   0  "
      ],
      "text/html": [
       "<div>\n",
       "<style scoped>\n",
       "    .dataframe tbody tr th:only-of-type {\n",
       "        vertical-align: middle;\n",
       "    }\n",
       "\n",
       "    .dataframe tbody tr th {\n",
       "        vertical-align: top;\n",
       "    }\n",
       "\n",
       "    .dataframe thead th {\n",
       "        text-align: right;\n",
       "    }\n",
       "</style>\n",
       "<table border=\"1\" class=\"dataframe\">\n",
       "  <thead>\n",
       "    <tr style=\"text-align: right;\">\n",
       "      <th></th>\n",
       "      <th>flat_status</th>\n",
       "      <th>num_of_rooms</th>\n",
       "      <th>total_area_m2</th>\n",
       "      <th>living_area_m2</th>\n",
       "      <th>kitchen_area_m2</th>\n",
       "      <th>floor</th>\n",
       "      <th>year_of_bulding</th>\n",
       "      <th>price</th>\n",
       "      <th>metro_station</th>\n",
       "      <th>minutes_to_metro</th>\n",
       "      <th>transfer_type</th>\n",
       "      <th>house_age</th>\n",
       "      <th>is_future_building</th>\n",
       "    </tr>\n",
       "  </thead>\n",
       "  <tbody>\n",
       "    <tr>\n",
       "      <th>0</th>\n",
       "      <td>1</td>\n",
       "      <td>4-комнатная</td>\n",
       "      <td>125.50</td>\n",
       "      <td>75.8</td>\n",
       "      <td>22.9</td>\n",
       "      <td>4</td>\n",
       "      <td>1876</td>\n",
       "      <td>24500000</td>\n",
       "      <td>Балтийская</td>\n",
       "      <td>5</td>\n",
       "      <td>car</td>\n",
       "      <td>149</td>\n",
       "      <td>0</td>\n",
       "    </tr>\n",
       "    <tr>\n",
       "      <th>1</th>\n",
       "      <td>1</td>\n",
       "      <td>2-комнатная</td>\n",
       "      <td>41.50</td>\n",
       "      <td>26.4</td>\n",
       "      <td>6.0</td>\n",
       "      <td>3</td>\n",
       "      <td>1964</td>\n",
       "      <td>6300000</td>\n",
       "      <td>Московская</td>\n",
       "      <td>6</td>\n",
       "      <td>car</td>\n",
       "      <td>61</td>\n",
       "      <td>0</td>\n",
       "    </tr>\n",
       "    <tr>\n",
       "      <th>2</th>\n",
       "      <td>0</td>\n",
       "      <td>3-комнатная</td>\n",
       "      <td>80.39</td>\n",
       "      <td>44.9</td>\n",
       "      <td>10.2</td>\n",
       "      <td>3</td>\n",
       "      <td>2025</td>\n",
       "      <td>30061520</td>\n",
       "      <td>Василеостровская</td>\n",
       "      <td>11</td>\n",
       "      <td>legs</td>\n",
       "      <td>0</td>\n",
       "      <td>0</td>\n",
       "    </tr>\n",
       "    <tr>\n",
       "      <th>3</th>\n",
       "      <td>1</td>\n",
       "      <td>2-комнатная</td>\n",
       "      <td>65.10</td>\n",
       "      <td>27.0</td>\n",
       "      <td>19.0</td>\n",
       "      <td>4</td>\n",
       "      <td>1983</td>\n",
       "      <td>11500000</td>\n",
       "      <td>Улица Дыбенко</td>\n",
       "      <td>7</td>\n",
       "      <td>car</td>\n",
       "      <td>42</td>\n",
       "      <td>0</td>\n",
       "    </tr>\n",
       "    <tr>\n",
       "      <th>4</th>\n",
       "      <td>1</td>\n",
       "      <td>1-комнатная</td>\n",
       "      <td>38.50</td>\n",
       "      <td>16.6</td>\n",
       "      <td>10.5</td>\n",
       "      <td>10</td>\n",
       "      <td>2015</td>\n",
       "      <td>5599000</td>\n",
       "      <td>Девяткино</td>\n",
       "      <td>6</td>\n",
       "      <td>car</td>\n",
       "      <td>10</td>\n",
       "      <td>0</td>\n",
       "    </tr>\n",
       "  </tbody>\n",
       "</table>\n",
       "</div>"
      ]
     },
     "execution_count": 15,
     "metadata": {},
     "output_type": "execute_result"
    }
   ],
   "execution_count": 15
  },
  {
   "metadata": {
    "ExecuteTime": {
     "end_time": "2025-09-01T20:17:50.076450Z",
     "start_time": "2025-09-01T20:17:50.072480Z"
    }
   },
   "cell_type": "code",
   "source": "df['minutes_to_metro'] = df['minutes_to_metro'].replace('откроется', 10).astype(int)",
   "id": "f45f70652e6e8608",
   "outputs": [],
   "execution_count": 16
  },
  {
   "metadata": {
    "ExecuteTime": {
     "end_time": "2025-09-01T20:17:50.133521Z",
     "start_time": "2025-09-01T20:17:50.120778Z"
    }
   },
   "cell_type": "code",
   "source": "check_df(df)",
   "id": "e6284451ab05163a",
   "outputs": [
    {
     "name": "stdout",
     "output_type": "stream",
     "text": [
      "--------------------------------SHAPE---------------------------------\n",
      "(1080, 13)\n",
      "---------------------------------HEAD---------------------------------\n",
      "   flat_status num_of_rooms  total_area_m2  living_area_m2  kitchen_area_m2  \\\n",
      "0            1  4-комнатная         125.50            75.8             22.9   \n",
      "1            1  2-комнатная          41.50            26.4              6.0   \n",
      "2            0  3-комнатная          80.39            44.9             10.2   \n",
      "3            1  2-комнатная          65.10            27.0             19.0   \n",
      "4            1  1-комнатная          38.50            16.6             10.5   \n",
      "\n",
      "   floor  year_of_bulding     price     metro_station  minutes_to_metro  \\\n",
      "0      4             1876  24500000        Балтийская                 5   \n",
      "1      3             1964   6300000        Московская                 6   \n",
      "2      3             2025  30061520  Василеостровская                11   \n",
      "3      4             1983  11500000     Улица Дыбенко                 7   \n",
      "4     10             2015   5599000         Девяткино                 6   \n",
      "\n",
      "  transfer_type  house_age  is_future_building  \n",
      "0           car        149                   0  \n",
      "1           car         61                   0  \n",
      "2          legs          0                   0  \n",
      "3           car         42                   0  \n",
      "4           car         10                   0  \n",
      "---------------------------------INFO---------------------------------\n",
      "<class 'pandas.core.frame.DataFrame'>\n",
      "RangeIndex: 1080 entries, 0 to 1079\n",
      "Data columns (total 13 columns):\n",
      " #   Column              Non-Null Count  Dtype  \n",
      "---  ------              --------------  -----  \n",
      " 0   flat_status         1080 non-null   int64  \n",
      " 1   num_of_rooms        1080 non-null   object \n",
      " 2   total_area_m2       1080 non-null   float64\n",
      " 3   living_area_m2      1080 non-null   float64\n",
      " 4   kitchen_area_m2     1080 non-null   float64\n",
      " 5   floor               1080 non-null   int64  \n",
      " 6   year_of_bulding     1080 non-null   int64  \n",
      " 7   price               1080 non-null   int64  \n",
      " 8   metro_station       1080 non-null   object \n",
      " 9   minutes_to_metro    1080 non-null   int64  \n",
      " 10  transfer_type       1080 non-null   object \n",
      " 11  house_age           1080 non-null   int64  \n",
      " 12  is_future_building  1080 non-null   int64  \n",
      "dtypes: float64(3), int64(7), object(3)\n",
      "memory usage: 109.8+ KB\n",
      "None\n",
      "-------------------------------NUNIQUE--------------------------------\n",
      "flat_status             2\n",
      "num_of_rooms            7\n",
      "total_area_m2         776\n",
      "living_area_m2        474\n",
      "kitchen_area_m2       291\n",
      "floor                  25\n",
      "year_of_bulding       140\n",
      "price                 791\n",
      "metro_station          65\n",
      "minutes_to_metro       30\n",
      "transfer_type           2\n",
      "house_age             137\n",
      "is_future_building      2\n",
      "dtype: int64\n",
      "----------------------------MISSING VALUES----------------------------\n",
      "flat_status           0\n",
      "num_of_rooms          0\n",
      "total_area_m2         0\n",
      "living_area_m2        0\n",
      "kitchen_area_m2       0\n",
      "floor                 0\n",
      "year_of_bulding       0\n",
      "price                 0\n",
      "metro_station         0\n",
      "minutes_to_metro      0\n",
      "transfer_type         0\n",
      "house_age             0\n",
      "is_future_building    0\n",
      "dtype: int64\n",
      "---------------------------DUPLICATED ROWS----------------------------\n",
      "82\n"
     ]
    }
   ],
   "execution_count": 17
  },
  {
   "metadata": {
    "ExecuteTime": {
     "end_time": "2025-09-01T20:17:50.144507Z",
     "start_time": "2025-09-01T20:17:50.139223Z"
    }
   },
   "cell_type": "code",
   "source": "df.drop_duplicates(inplace=True)",
   "id": "fe4c630f6b37f2fc",
   "outputs": [],
   "execution_count": 18
  },
  {
   "metadata": {
    "ExecuteTime": {
     "end_time": "2025-09-01T20:17:50.166304Z",
     "start_time": "2025-09-01T20:17:50.164143Z"
    }
   },
   "cell_type": "markdown",
   "source": "# EDA",
   "id": "6b1e7c5883807243"
  },
  {
   "metadata": {},
   "cell_type": "code",
   "outputs": [],
   "execution_count": null,
   "source": "",
   "id": "f37dc8b29266e2f4"
  }
 ],
 "metadata": {
  "kernelspec": {
   "display_name": "Python 3",
   "language": "python",
   "name": "python3"
  },
  "language_info": {
   "codemirror_mode": {
    "name": "ipython",
    "version": 2
   },
   "file_extension": ".py",
   "mimetype": "text/x-python",
   "name": "python",
   "nbconvert_exporter": "python",
   "pygments_lexer": "ipython2",
   "version": "2.7.6"
  }
 },
 "nbformat": 4,
 "nbformat_minor": 5
}
